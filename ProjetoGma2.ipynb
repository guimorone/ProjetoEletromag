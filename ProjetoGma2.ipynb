{
 "cells": [
  {
   "cell_type": "markdown",
   "metadata": {},
   "source": [
    "## **Guilherme Morone Araujo - gma2**"
   ]
  },
  {
   "cell_type": "markdown",
   "metadata": {},
   "source": [
    "# Aplicação do Método dos Momentos para determinar a distribuição superficial de carga nas placas abaixo"
   ]
  },
  {
   "cell_type": "markdown",
   "metadata": {},
   "source": [
    "![placas](picture.jpg)"
   ]
  },
  {
   "cell_type": "code",
   "execution_count": 235,
   "metadata": {},
   "outputs": [],
   "source": [
    "# Importando as bibliotecas\n",
    "import numpy as np\n",
    "import matplotlib.pyplot as plt\n",
    "import math"
   ]
  },
  {
   "cell_type": "code",
   "execution_count": 236,
   "metadata": {},
   "outputs": [],
   "source": [
    "# Variáveis iniciais\n",
    "\n",
    "Vi = 0          # Potencial da placa em z = 0\n",
    "V0 = 1          # Potencial da placa em z = d\n",
    "L = 0.1         # Lado = 10 cm\n",
    "d = 0.001       # distancia entre as placas condutoras = 1 mm\n",
    "e0 = 8.85e-12   # Permissividade no vácuo\n",
    "N = 10          # Número de segmentos\n",
    "delta = L/N     # Tamanho do lado de cada elemento \n",
    "                # Cada lado é divido em N segmentos, totalizando N² elementos"
   ]
  },
  {
   "cell_type": "code",
   "execution_count": 237,
   "metadata": {},
   "outputs": [
    {
     "name": "stdout",
     "output_type": "stream",
     "text": [
      "0.005 0.005 0.0 \n",
      "0.015 0.005 0.0 \n",
      "0.025 0.005 0.0 \n",
      "0.035 0.005 0.0 \n",
      "0.045 0.005 0.0 \n",
      "0.055 0.005 0.0 \n",
      "0.065 0.005 0.0 \n",
      "0.075 0.005 0.0 \n",
      "0.085 0.005 0.0 \n",
      "0.095 0.005 0.0 \n",
      "0.005 0.015 0.0 \n",
      "0.015 0.015 0.0 \n",
      "0.025 0.015 0.0 \n",
      "0.035 0.015 0.0 \n",
      "0.045 0.015 0.0 \n",
      "0.055 0.015 0.0 \n",
      "0.065 0.015 0.0 \n",
      "0.075 0.015 0.0 \n",
      "0.085 0.015 0.0 \n",
      "0.095 0.015 0.0 \n",
      "0.005 0.025 0.0 \n",
      "0.015 0.025 0.0 \n",
      "0.025 0.025 0.0 \n",
      "0.035 0.025 0.0 \n",
      "0.045 0.025 0.0 \n",
      "0.055 0.025 0.0 \n",
      "0.065 0.025 0.0 \n",
      "0.075 0.025 0.0 \n",
      "0.085 0.025 0.0 \n",
      "0.095 0.025 0.0 \n",
      "0.005 0.035 0.0 \n",
      "0.015 0.035 0.0 \n",
      "0.025 0.035 0.0 \n",
      "0.035 0.035 0.0 \n",
      "0.045 0.035 0.0 \n",
      "0.055 0.035 0.0 \n",
      "0.065 0.035 0.0 \n",
      "0.075 0.035 0.0 \n",
      "0.085 0.035 0.0 \n",
      "0.095 0.035 0.0 \n",
      "0.005 0.045 0.0 \n",
      "0.015 0.045 0.0 \n",
      "0.025 0.045 0.0 \n",
      "0.035 0.045 0.0 \n",
      "0.045 0.045 0.0 \n",
      "0.055 0.045 0.0 \n",
      "0.065 0.045 0.0 \n",
      "0.075 0.045 0.0 \n",
      "0.085 0.045 0.0 \n",
      "0.095 0.045 0.0 \n",
      "0.005 0.055 0.0 \n",
      "0.015 0.055 0.0 \n",
      "0.025 0.055 0.0 \n",
      "0.035 0.055 0.0 \n",
      "0.045 0.055 0.0 \n",
      "0.055 0.055 0.0 \n",
      "0.065 0.055 0.0 \n",
      "0.075 0.055 0.0 \n",
      "0.085 0.055 0.0 \n",
      "0.095 0.055 0.0 \n",
      "0.005 0.065 0.0 \n",
      "0.015 0.065 0.0 \n",
      "0.025 0.065 0.0 \n",
      "0.035 0.065 0.0 \n",
      "0.045 0.065 0.0 \n",
      "0.055 0.065 0.0 \n",
      "0.065 0.065 0.0 \n",
      "0.075 0.065 0.0 \n",
      "0.085 0.065 0.0 \n",
      "0.095 0.065 0.0 \n",
      "0.005 0.075 0.0 \n",
      "0.015 0.075 0.0 \n",
      "0.025 0.075 0.0 \n",
      "0.035 0.075 0.0 \n",
      "0.045 0.075 0.0 \n",
      "0.055 0.075 0.0 \n",
      "0.065 0.075 0.0 \n",
      "0.075 0.075 0.0 \n",
      "0.085 0.075 0.0 \n",
      "0.095 0.075 0.0 \n",
      "0.005 0.085 0.0 \n",
      "0.015 0.085 0.0 \n",
      "0.025 0.085 0.0 \n",
      "0.035 0.085 0.0 \n",
      "0.045 0.085 0.0 \n",
      "0.055 0.085 0.0 \n",
      "0.065 0.085 0.0 \n",
      "0.075 0.085 0.0 \n",
      "0.085 0.085 0.0 \n",
      "0.095 0.085 0.0 \n",
      "0.005 0.095 0.0 \n",
      "0.015 0.095 0.0 \n",
      "0.025 0.095 0.0 \n",
      "0.035 0.095 0.0 \n",
      "0.045 0.095 0.0 \n",
      "0.055 0.095 0.0 \n",
      "0.065 0.095 0.0 \n",
      "0.075 0.095 0.0 \n",
      "0.085 0.095 0.0 \n",
      "0.095 0.095 0.0 \n",
      "0.005 0.005 0.001 \n",
      "0.015 0.005 0.001 \n",
      "0.025 0.005 0.001 \n",
      "0.035 0.005 0.001 \n",
      "0.045 0.005 0.001 \n",
      "0.055 0.005 0.001 \n",
      "0.065 0.005 0.001 \n",
      "0.075 0.005 0.001 \n",
      "0.085 0.005 0.001 \n",
      "0.095 0.005 0.001 \n",
      "0.005 0.015 0.001 \n",
      "0.015 0.015 0.001 \n",
      "0.025 0.015 0.001 \n",
      "0.035 0.015 0.001 \n",
      "0.045 0.015 0.001 \n",
      "0.055 0.015 0.001 \n",
      "0.065 0.015 0.001 \n",
      "0.075 0.015 0.001 \n",
      "0.085 0.015 0.001 \n",
      "0.095 0.015 0.001 \n",
      "0.005 0.025 0.001 \n",
      "0.015 0.025 0.001 \n",
      "0.025 0.025 0.001 \n",
      "0.035 0.025 0.001 \n",
      "0.045 0.025 0.001 \n",
      "0.055 0.025 0.001 \n",
      "0.065 0.025 0.001 \n",
      "0.075 0.025 0.001 \n",
      "0.085 0.025 0.001 \n",
      "0.095 0.025 0.001 \n",
      "0.005 0.035 0.001 \n",
      "0.015 0.035 0.001 \n",
      "0.025 0.035 0.001 \n",
      "0.035 0.035 0.001 \n",
      "0.045 0.035 0.001 \n",
      "0.055 0.035 0.001 \n",
      "0.065 0.035 0.001 \n",
      "0.075 0.035 0.001 \n",
      "0.085 0.035 0.001 \n",
      "0.095 0.035 0.001 \n",
      "0.005 0.045 0.001 \n",
      "0.015 0.045 0.001 \n",
      "0.025 0.045 0.001 \n",
      "0.035 0.045 0.001 \n",
      "0.045 0.045 0.001 \n",
      "0.055 0.045 0.001 \n",
      "0.065 0.045 0.001 \n",
      "0.075 0.045 0.001 \n",
      "0.085 0.045 0.001 \n",
      "0.095 0.045 0.001 \n",
      "0.005 0.055 0.001 \n",
      "0.015 0.055 0.001 \n",
      "0.025 0.055 0.001 \n",
      "0.035 0.055 0.001 \n",
      "0.045 0.055 0.001 \n",
      "0.055 0.055 0.001 \n",
      "0.065 0.055 0.001 \n",
      "0.075 0.055 0.001 \n",
      "0.085 0.055 0.001 \n",
      "0.095 0.055 0.001 \n",
      "0.005 0.065 0.001 \n",
      "0.015 0.065 0.001 \n",
      "0.025 0.065 0.001 \n",
      "0.035 0.065 0.001 \n",
      "0.045 0.065 0.001 \n",
      "0.055 0.065 0.001 \n",
      "0.065 0.065 0.001 \n",
      "0.075 0.065 0.001 \n",
      "0.085 0.065 0.001 \n",
      "0.095 0.065 0.001 \n",
      "0.005 0.075 0.001 \n",
      "0.015 0.075 0.001 \n",
      "0.025 0.075 0.001 \n",
      "0.035 0.075 0.001 \n",
      "0.045 0.075 0.001 \n",
      "0.055 0.075 0.001 \n",
      "0.065 0.075 0.001 \n",
      "0.075 0.075 0.001 \n",
      "0.085 0.075 0.001 \n",
      "0.095 0.075 0.001 \n",
      "0.005 0.085 0.001 \n",
      "0.015 0.085 0.001 \n",
      "0.025 0.085 0.001 \n",
      "0.035 0.085 0.001 \n",
      "0.045 0.085 0.001 \n",
      "0.055 0.085 0.001 \n",
      "0.065 0.085 0.001 \n",
      "0.075 0.085 0.001 \n",
      "0.085 0.085 0.001 \n",
      "0.095 0.085 0.001 \n",
      "0.005 0.095 0.001 \n",
      "0.015 0.095 0.001 \n",
      "0.025 0.095 0.001 \n",
      "0.035 0.095 0.001 \n",
      "0.045 0.095 0.001 \n",
      "0.055 0.095 0.001 \n",
      "0.065 0.095 0.001 \n",
      "0.075 0.095 0.001 \n",
      "0.085 0.095 0.001 \n",
      "0.095 0.095 0.001 \n"
     ]
    }
   ],
   "source": [
    "# Matriz para as coordenadas do centro de cada elemento (x, y, z)\n",
    "# A matriz vai ter 2 * N² elementos (duas placas condutoras)\n",
    "\n",
    "R = []\n",
    "\n",
    "for k in range(2):\n",
    "    for i in range(N):\n",
    "        for j in range(N):\n",
    "            R.append([(j * delta) + (delta/2), (i * delta) + (delta/2), k * d])   \n",
    "\n",
    "# Printando a matriz\n",
    "for i in range(2 * N**2):\n",
    "    for j in range(3):\n",
    "        print(round(R[i][j], 3), end = ' ') # Arredondamento apenas para facilitar a visualização\n",
    "    print()"
   ]
  },
  {
   "cell_type": "markdown",
   "metadata": {},
   "source": [
    "# Primeira questão"
   ]
  },
  {
   "cell_type": "code",
   "execution_count": 238,
   "metadata": {},
   "outputs": [],
   "source": [
    "# Matriz de impedância\n",
    "\n",
    "def impendancia(m, n):\n",
    "    if m != n:\n",
    "        # 1/(4 * pi * e0) * delta²/sqrt[(xp - xi)² + (yq - yj)² + (zs - zk)²]\n",
    "        return 1/(4 * math.pi * e0) * (delta**2)/math.sqrt(((R[m][0] - R[n][0])**2) + ((R[m][1] - R[n][1])**2) + ((R[m][2] - R[n][2])**2))\n",
    "    \n",
    "    # [delta/(pi * e0)] * ln(1 + sqrt(2))\n",
    "    return delta/(math.pi * e0) * math.log(1 + math.sqrt(2))\n",
    "    \n",
    "Z = []\n",
    "    \n",
    "for i in range(2 * N**2):\n",
    "    Z.append([])\n",
    "    for j in range(2 * N**2):\n",
    "        Z[i].append(impendancia(i, j))\n",
    "  \n",
    "# Printando a matriz\n",
    "#for i in range(2 * N**2):\n",
    "#    for j in range(2 * N**2):\n",
    "#        print(Z[i][j], end = ' ')\n",
    "#    print()"
   ]
  },
  {
   "cell_type": "code",
   "execution_count": 239,
   "metadata": {},
   "outputs": [
    {
     "name": "stdout",
     "output_type": "stream",
     "text": [
      "0 0 0 0 0 0 0 0 0 0 0 0 0 0 0 0 0 0 0 0 0 0 0 0 0 0 0 0 0 0 0 0 0 0 0 0 0 0 0 0 0 0 0 0 0 0 0 0 0 0 0 0 0 0 0 0 0 0 0 0 0 0 0 0 0 0 0 0 0 0 0 0 0 0 0 0 0 0 0 0 0 0 0 0 0 0 0 0 0 0 0 0 0 0 0 0 0 0 0 0 1 1 1 1 1 1 1 1 1 1 1 1 1 1 1 1 1 1 1 1 1 1 1 1 1 1 1 1 1 1 1 1 1 1 1 1 1 1 1 1 1 1 1 1 1 1 1 1 1 1 1 1 1 1 1 1 1 1 1 1 1 1 1 1 1 1 1 1 1 1 1 1 1 1 1 1 1 1 1 1 1 1 1 1 1 1 1 1 1 1 1 1 1 1 1 1 1 1 1 1 "
     ]
    }
   ],
   "source": [
    "# Matriz de tensão (potencial)\n",
    "\n",
    "V = []\n",
    "\n",
    "for i in range(N**2): # Placa condutora em z = 0\n",
    "    V.append(Vi)\n",
    "    \n",
    "for i in range(N**2, 2 * N**2): # Placa condutora em z = d\n",
    "    V.append(V0)\n",
    "    \n",
    "# Printando a matriz\n",
    "for i in range(2 * N**2):\n",
    "    print(V[i], end = ' ')\n"
   ]
  },
  {
   "cell_type": "markdown",
   "metadata": {},
   "source": [
    "# Segunda questão"
   ]
  },
  {
   "cell_type": "code",
   "execution_count": 240,
   "metadata": {},
   "outputs": [
    {
     "name": "stdout",
     "output_type": "stream",
     "text": [
      "[ 1.02534930e-09  9.91166288e-10  9.79841212e-10  9.74599244e-10\n",
      "  9.72405235e-10  9.72405235e-10  9.74599244e-10  9.79841212e-10\n",
      "  9.91166288e-10  1.02534930e-09  9.91166288e-10  9.54532313e-10\n",
      "  9.43401100e-10  9.38638980e-10  9.36725983e-10  9.36725983e-10\n",
      "  9.38638980e-10  9.43401100e-10  9.54532313e-10  9.91166288e-10\n",
      "  9.79841212e-10  9.43401100e-10  9.32020495e-10  9.27177424e-10\n",
      "  9.25251499e-10  9.25251499e-10  9.27177424e-10  9.32020495e-10\n",
      "  9.43401100e-10  9.79841212e-10  9.74599244e-10  9.38638980e-10\n",
      "  9.27177424e-10  9.22257513e-10  9.20297896e-10  9.20297896e-10\n",
      "  9.22257513e-10  9.27177424e-10  9.38638980e-10  9.74599244e-10\n",
      "  9.72405235e-10  9.36725983e-10  9.25251499e-10  9.20297896e-10\n",
      "  9.18320037e-10  9.18320037e-10  9.20297896e-10  9.25251499e-10\n",
      "  9.36725983e-10  9.72405235e-10  9.72405235e-10  9.36725983e-10\n",
      "  9.25251499e-10  9.20297896e-10  9.18320037e-10  9.18320037e-10\n",
      "  9.20297896e-10  9.25251499e-10  9.36725983e-10  9.72405235e-10\n",
      "  9.74599244e-10  9.38638980e-10  9.27177424e-10  9.22257513e-10\n",
      "  9.20297896e-10  9.20297896e-10  9.22257513e-10  9.27177424e-10\n",
      "  9.38638980e-10  9.74599244e-10  9.79841212e-10  9.43401100e-10\n",
      "  9.32020495e-10  9.27177424e-10  9.25251499e-10  9.25251499e-10\n",
      "  9.27177424e-10  9.32020495e-10  9.43401100e-10  9.79841212e-10\n",
      "  9.91166288e-10  9.54532313e-10  9.43401100e-10  9.38638980e-10\n",
      "  9.36725983e-10  9.36725983e-10  9.38638980e-10  9.43401100e-10\n",
      "  9.54532313e-10  9.91166288e-10  1.02534930e-09  9.91166288e-10\n",
      "  9.79841212e-10  9.74599244e-10  9.72405235e-10  9.72405235e-10\n",
      "  9.74599244e-10  9.79841212e-10  9.91166288e-10  1.02534930e-09\n",
      " -6.96728884e-10 -7.32894881e-10 -7.44614085e-10 -7.49999046e-10\n",
      " -7.52246223e-10 -7.52246223e-10 -7.49999046e-10 -7.44614085e-10\n",
      " -7.32894881e-10 -6.96728884e-10 -7.32894881e-10 -7.71980801e-10\n",
      " -7.83623009e-10 -7.88566329e-10 -7.90545428e-10 -7.90545428e-10\n",
      " -7.88566329e-10 -7.83623009e-10 -7.71980801e-10 -7.32894881e-10\n",
      " -7.44614085e-10 -7.83623009e-10 -7.95570225e-10 -8.00618711e-10\n",
      " -8.02619946e-10 -8.02619946e-10 -8.00618711e-10 -7.95570225e-10\n",
      " -7.83623009e-10 -7.44614085e-10 -7.49999046e-10 -7.88566329e-10\n",
      " -8.00618711e-10 -8.05756969e-10 -8.07797360e-10 -8.07797360e-10\n",
      " -8.05756969e-10 -8.00618711e-10 -7.88566329e-10 -7.49999046e-10\n",
      " -7.52246223e-10 -7.90545428e-10 -8.02619946e-10 -8.07797360e-10\n",
      " -8.09858456e-10 -8.09858456e-10 -8.07797360e-10 -8.02619946e-10\n",
      " -7.90545428e-10 -7.52246223e-10 -7.52246223e-10 -7.90545428e-10\n",
      " -8.02619946e-10 -8.07797360e-10 -8.09858456e-10 -8.09858456e-10\n",
      " -8.07797360e-10 -8.02619946e-10 -7.90545428e-10 -7.52246223e-10\n",
      " -7.49999046e-10 -7.88566329e-10 -8.00618711e-10 -8.05756969e-10\n",
      " -8.07797360e-10 -8.07797360e-10 -8.05756969e-10 -8.00618711e-10\n",
      " -7.88566329e-10 -7.49999046e-10 -7.44614085e-10 -7.83623009e-10\n",
      " -7.95570225e-10 -8.00618711e-10 -8.02619946e-10 -8.02619946e-10\n",
      " -8.00618711e-10 -7.95570225e-10 -7.83623009e-10 -7.44614085e-10\n",
      " -7.32894881e-10 -7.71980801e-10 -7.83623009e-10 -7.88566329e-10\n",
      " -7.90545428e-10 -7.90545428e-10 -7.88566329e-10 -7.83623009e-10\n",
      " -7.71980801e-10 -7.32894881e-10 -6.96728884e-10 -7.32894881e-10\n",
      " -7.44614085e-10 -7.49999046e-10 -7.52246223e-10 -7.52246223e-10\n",
      " -7.49999046e-10 -7.44614085e-10 -7.32894881e-10 -6.96728884e-10]\n"
     ]
    }
   ],
   "source": [
    "# Resolvendo o sistema para determinar as amplitudes dos pulsos\n",
    "\n",
    "A = np.linalg.solve(Z, V)\n",
    "\n",
    "# Cada elemento de A terá uma solução para cada parte dividida da placa condutora (que está em R)\n",
    "\n",
    "print(A)"
   ]
  },
  {
   "cell_type": "code",
   "execution_count": 241,
   "metadata": {},
   "outputs": [
    {
     "name": "stdout",
     "output_type": "stream",
     "text": [
      "Distribuição superficial de carga = 1.7538176039518793e-08\n"
     ]
    }
   ],
   "source": [
    "# A distribuição superficial de carga pode ser aproximada por uma soma dos elementos do vetor A\n",
    "\n",
    "distribuicaoSuperficial = sum(A)\n",
    "print(\"Distribuição superficial de carga =\", distribuicaoSuperficial)"
   ]
  },
  {
   "cell_type": "code",
   "execution_count": 242,
   "metadata": {},
   "outputs": [
    {
     "data": {
      "image/png": "[encoded data removed]",
      "text/plain": [
       "<Figure size 432x288 with 1 Axes>"
      ]
     },
     "metadata": {
      "needs_background": "light"
     },
     "output_type": "display_data"
    }
   ],
   "source": [
    "# Resultado, gráfico da amplitude dos pulsos\n",
    "\n",
    "plt.title('Pulsos', fontsize=20)\n",
    "plt.xlabel('Elemento', fontsize=20) # Elemento = parte da placa dividida pelo segmento (N)\n",
    "plt.ylabel('Amplitude', fontsize=20) # Valor esperado\n",
    "plt.plot(A, color='blue', linewidth='2')\n",
    "plt.show() "
   ]
  }
 ],
 "metadata": {
  "interpreter": {
   "hash": "dfe53d239ba23378202f26604b4f1ea659ee1cf2a97054655889bc712f1060df"
  },
  "kernelspec": {
   "display_name": "Python 3.8.10 64-bit ('snakes': conda)",
   "language": "python",
   "name": "python3"
  },
  "language_info": {
   "codemirror_mode": {
    "name": "ipython",
    "version": 3
   },
   "file_extension": ".py",
   "mimetype": "text/x-python",
   "name": "python",
   "nbconvert_exporter": "python",
   "pygments_lexer": "ipython3",
   "version": "3.8.8"
  },
  "orig_nbformat": 4
 },
 "nbformat": 4,
 "nbformat_minor": 2
}
