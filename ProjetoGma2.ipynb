{
 "cells": [
  {
   "cell_type": "markdown",
   "metadata": {},
   "source": [
    "## **Guilherme Morone Araujo - gma2**"
   ]
  },
  {
   "cell_type": "markdown",
   "metadata": {},
   "source": [
    "# Aplicação do Método dos Momentos para determinar a distribuição superficial de carga nas placas abaixo"
   ]
  },
  {
   "cell_type": "markdown",
   "metadata": {},
   "source": [
    "![placas](picture.jpg)"
   ]
  },
  {
   "cell_type": "code",
   "execution_count": 2,
   "metadata": {},
   "outputs": [],
   "source": [
    "# Importando as bibliotecas\n",
    "import numpy as np\n",
    "import matplotlib.pyplot as plt\n",
    "import math"
   ]
  },
  {
   "cell_type": "code",
   "execution_count": null,
   "metadata": {},
   "outputs": [],
   "source": [
    "# Variáveis iniciais\n",
    "\n",
    "Vi = 0          # Potencial da placa em z = 0\n",
    "V0 = 1          # Potencial da placa em z = d\n",
    "L = 0.1         # Lado = 10 cm\n",
    "d = 0.001       # distancia entre as placas condutoras = 1 mm\n",
    "e0 = 8.85e-12   # Permissividade no vácuo\n",
    "N = 10          # Número de segmentos\n",
    "lado = L/N      # Tamanho do lado de cada segmento"
   ]
  }
 ],
 "metadata": {
  "interpreter": {
   "hash": "dfe53d239ba23378202f26604b4f1ea659ee1cf2a97054655889bc712f1060df"
  },
  "kernelspec": {
   "display_name": "Python 3.8.10 64-bit ('snakes': conda)",
   "language": "python",
   "name": "python3"
  },
  "language_info": {
   "codemirror_mode": {
    "name": "ipython",
    "version": 3
   },
   "file_extension": ".py",
   "mimetype": "text/x-python",
   "name": "python",
   "nbconvert_exporter": "python",
   "pygments_lexer": "ipython3",
   "version": "3.8.8"
  },
  "orig_nbformat": 4
 },
 "nbformat": 4,
 "nbformat_minor": 2
}
